{
 "cells": [
  {
   "cell_type": "markdown",
   "id": "87139621-a22d-4bc6-a094-a00dc3fe8e53",
   "metadata": {},
   "source": [
    "# Massenhypothese"
   ]
  },
  {
   "cell_type": "markdown",
   "id": "9ca872a9",
   "metadata": {},
   "source": [
    "Eine Hauptaufgabe von Teilchenphysiker*innen ist es,  schier unzählige Datanmegen computergestützt verarbeiten zu können. Dazu müssen wir dem Computer beibrigen, dass er für uns rechnet. wir wollen den Computer nutzen, uns in der Rechenaufgabe zu unterstützen.\n",
    "\n",
    "$\\textbf{\\textsf{ Hier zwei wichtige Erklärungen, wie das Programm funktioniert:}}$\n",
    "\n",
    "$1.$ Die \"Zellen\" beinhalten vorgefertigte Informationen, welche wir dem PC \"erzählen\" möchten. Das machen wir, indem wir Zellen \"ausführen\", dafür halten Sie $\\texttt{Umschalt}$ (Die Taste für GROSSBUCHSTABEN) und klicken dann $\\texttt{Enter}$. $\\newline$\n",
    "$2.$ Die Zellen müssen in dieser Reihenfolge ausgeführt werden! Wenn Sie eine Funktion ändern möchten, müssen Sie die Zeile in der Sie die Änderung durchgeführt haben und alle nachfolgenden, erneut ausführen.\n",
    "\n",
    "Das möchten wir nun kurz ausprobieren:\n"
   ]
  },
  {
   "cell_type": "code",
   "execution_count": 13,
   "id": "2f71df80-cbe3-40f1-ac05-9dacd71f2741",
   "metadata": {},
   "outputs": [
    {
     "ename": "ModuleNotFoundError",
     "evalue": "No module named 'numpy'",
     "output_type": "error",
     "traceback": [
      "\u001b[0;31m---------------------------------------------------------------------------\u001b[0m",
      "\u001b[0;31mModuleNotFoundError\u001b[0m                       Traceback (most recent call last)",
      "Cell \u001b[0;32mIn[13], line 1\u001b[0m\n\u001b[0;32m----> 1\u001b[0m \u001b[38;5;28;01mimport\u001b[39;00m \u001b[38;5;21;01mnumpy\u001b[39;00m \u001b[38;5;28;01mas\u001b[39;00m \u001b[38;5;21;01mnp\u001b[39;00m\n\u001b[1;32m      2\u001b[0m \u001b[38;5;28;01mimport\u001b[39;00m \u001b[38;5;21;01mmatplotlib\u001b[39;00m \u001b[38;5;28;01mas\u001b[39;00m \u001b[38;5;21;01mmpl\u001b[39;00m\n\u001b[1;32m      3\u001b[0m \u001b[38;5;28;01mimport\u001b[39;00m \u001b[38;5;21;01mmatplotlib\u001b[39;00m\u001b[38;5;21;01m.\u001b[39;00m\u001b[38;5;21;01mpyplot\u001b[39;00m \u001b[38;5;28;01mas\u001b[39;00m \u001b[38;5;21;01mplt\u001b[39;00m\n",
      "\u001b[0;31mModuleNotFoundError\u001b[0m: No module named 'numpy'"
     ]
    }
   ],
   "source": [
    "import numpy as np\n",
    "import matplotlib as mpl\n",
    "import matplotlib.pyplot as plt\n",
    "\n",
    "print(\"Import erfolgreich!\")"
   ]
  },
  {
   "cell_type": "markdown",
   "id": "c3d6e0e2-6d78-489c-ba84-c8ec35066145",
   "metadata": {},
   "source": [
    "Die Bahn eines Teilchens kann ausgehend vom VELO bis zum Eintritt in das Magnetfeld durch eine lineare Funktion beschrieben werden. Eine Funktion der Form $f(x) = 2 \\cdot x + 7$ können wir dem Computer  das Beispiel folgendermaßen aus:"
   ]
  },
  {
   "cell_type": "code",
   "execution_count": 14,
   "id": "ae0d938e-2863-4bca-b001-da64062a4ca0",
   "metadata": {},
   "outputs": [
    {
     "name": "stdout",
     "output_type": "stream",
     "text": [
      "Der PC hat die Funktion f nun definiert.\n"
     ]
    }
   ],
   "source": [
    "def f(x):\n",
    "    y = 2 * x + 7\n",
    "    return y\n",
    "\n",
    "print(\"Der PC hat die Funktion f nun definiert.\")"
   ]
  },
  {
   "cell_type": "markdown",
   "id": "e8adf8cd-b807-4b63-8141-0ee5257f85f8",
   "metadata": {},
   "source": [
    "Ausführen können wir die Funktion nun, indem wir reinklicken und den gewünschten Wert für $x$ einsetzen, z.B. für $x = 5$ :"
   ]
  },
  {
   "cell_type": "code",
   "execution_count": 15,
   "id": "6ecf6618-93bb-40bd-be4b-bdc9a19a6653",
   "metadata": {},
   "outputs": [
    {
     "data": {
      "text/plain": [
       "17"
      ]
     },
     "execution_count": 15,
     "metadata": {},
     "output_type": "execute_result"
    }
   ],
   "source": [
    "f(5) "
   ]
  },
  {
   "cell_type": "markdown",
   "id": "1c8282e5-3f1b-4ef7-9291-d79849f6df55",
   "metadata": {},
   "source": [
    "Eine Funktion kann auch von mehreren Variablen abhängen z.B."
   ]
  },
  {
   "cell_type": "code",
   "execution_count": 16,
   "id": "85f130c8-0ca3-456d-8519-0ee973e916ba",
   "metadata": {},
   "outputs": [
    {
     "name": "stdout",
     "output_type": "stream",
     "text": [
      "Der PC hat nun die Fuktion g definiert.\n"
     ]
    }
   ],
   "source": [
    "def g(x, m, b):\n",
    "    y = m * x + b\n",
    "    return y\n",
    "\n",
    "print(\"Der PC hat nun die Funktion g definiert.\")"
   ]
  },
  {
   "cell_type": "markdown",
   "id": "1f721390-dd7a-430b-86eb-505243bedb2e",
   "metadata": {},
   "source": [
    "Dann müssen wir die Variablen $m$ und $b$ zusätzlich angeben, wenn wir die Funktionen ausführen wollen, in genau der Reihenfolge in der wir sie in der Funktion angegeben haben."
   ]
  },
  {
   "cell_type": "code",
   "execution_count": 17,
   "id": "8b8aede2-d43a-48ab-ab35-08740a05e03e",
   "metadata": {},
   "outputs": [
    {
     "data": {
      "text/plain": [
       "17"
      ]
     },
     "execution_count": 17,
     "metadata": {},
     "output_type": "execute_result"
    }
   ],
   "source": [
    "g(x = 5, m = 2, b = 7) "
   ]
  },
  {
   "cell_type": "markdown",
   "id": "28458492-2ca8-4d1c-bc04-437524774e21",
   "metadata": {},
   "source": [
    "Um den Wert zu abzuspeichern, können wir eine sog. Variable definieren, wir nennen sie hier f_5. Dann können wir damit auch weiter rechen wie im folgenden Beispiel. Der einzige Nachteil ist es, dass wir keine Einheiten definieren können, daher sollten Sie einheitliche Einheiten verwenden:"
   ]
  },
  {
   "cell_type": "code",
   "execution_count": 18,
   "id": "04427b2c-4278-4632-b493-c754f0d721d8",
   "metadata": {},
   "outputs": [
    {
     "data": {
      "text/plain": [
       "31"
      ]
     },
     "execution_count": 18,
     "metadata": {},
     "output_type": "execute_result"
    }
   ],
   "source": [
    "f_5 = f(5)\n",
    "f_5 + 14\n",
    "\n"
   ]
  },
  {
   "cell_type": "markdown",
   "id": "e416a4be",
   "metadata": {},
   "source": [
    "Wir können nun außerdem die definierte Variable in eine Funktion einsetzen, z.B. sagen wir jetzt, dass der Y-Achsenabschnitt der Funktion $g$ durch die Variable f_5 gegeben ist:"
   ]
  },
  {
   "cell_type": "code",
   "execution_count": 14,
   "id": "c8013bd9",
   "metadata": {},
   "outputs": [
    {
     "data": {
      "text/plain": [
       "32"
      ]
     },
     "execution_count": 14,
     "metadata": {},
     "output_type": "execute_result"
    }
   ],
   "source": [
    "g(5,3,f_5)"
   ]
  },
  {
   "cell_type": "markdown",
   "id": "355fbe0c-6a3b-434b-96ca-6be28cfabc93",
   "metadata": {},
   "source": [
    "<span style=\"color:red\">Beachten Sie nachfolgend Rechenvorschriften, die Sie auf Ihrem Aufgabenblatt finden!</span> "
   ]
  },
  {
   "cell_type": "markdown",
   "id": "50fd6221-f3b0-4bc6-bd68-4899357ccc2c",
   "metadata": {},
   "source": [
    " \n",
    " \n",
    " Die Basics haben Sie damit gelernt. Falls Sie Fragen haben, melden Sie sich gerne bei uns. Es liegt nun an Ihnen Variablen und Funktionen zu definieren!\n",
    "__________________________________________________________________________________________________________________________\n",
    "### Physik \n",
    "Wir wollen zu erst die Physik diskutieren, bevor wir später den PC bemühen für uns Mathe zu machen:\n",
    "\n",
    "$ \\textsf{\\textcolor{red}{\\textbf{Aufgabe 1}}}$ Wir benötigen die Lichtgeschwindigkeit $c$ und die Elementarladung $e$ für nachfolgende Rechnungen. Definieren Sie diese in der leeren Zelle in SI-Einheiten:\n",
    "\n",
    "\n",
    "\n"
   ]
  },
  {
   "cell_type": "code",
   "execution_count": null,
   "id": "07fcda23",
   "metadata": {},
   "outputs": [],
   "source": []
  },
  {
   "cell_type": "markdown",
   "id": "d8fc2188",
   "metadata": {},
   "source": [
    " $\\textsf{\\textcolor{red}{\\textbf{Aufgabe 2}}}$ Betrachten Sie den schematischen Aufbau des LHCb. Welche Kräfte wirken, wenn ein geladenenes Teilchen ein Magnetfeld quert? Wie kann man hieraus den Impuls bestimmen?\\\n",
    "  Definieren Sie die Formel. Nutzen Sie ggf. den Platz auf dem Arbeitsblatt um die Formel herzuleiten!"
   ]
  },
  {
   "cell_type": "code",
   "execution_count": null,
   "id": "b689425f",
   "metadata": {},
   "outputs": [],
   "source": []
  },
  {
   "cell_type": "markdown",
   "id": "4009d2a3",
   "metadata": {},
   "source": [
    "$\\textsf{\\textcolor{red}{\\textbf{Aufgabe 3}}}$ Sie haben nun eine Methode gefunden um den Impuls zu bestimmen. Sie sehen in der Tabelle außerdem Energien gegeben. Aus welcher fundamentalen physikalischen Beziehung der kann man aus Energie und Impuls die Masse bestimmen? Definieren Sie diese nachfolgend."
   ]
  },
  {
   "cell_type": "code",
   "execution_count": null,
   "id": "2337ad81",
   "metadata": {},
   "outputs": [],
   "source": []
  },
  {
   "cell_type": "markdown",
   "id": "9be76c5e",
   "metadata": {},
   "source": [
    "$\\textsf{\\textcolor{red}{\\textbf{Aufgabe 4}}}$ Sie sehen die ungewöhnliche Einheit GeV bei den Energien in der Tabelle. Wie kann man GeV in die SI-Einehit Joule umrechnen? Definieren Sie eine Funktion, die das für Sie erledigt.\\\n",
    " <span style=\"color:red\">Beachten Sie Rechenvorschriften fürs Potenzieren, die Sie auf Ihrem Aufgabenblatt finden!</span>"
   ]
  },
  {
   "cell_type": "code",
   "execution_count": null,
   "id": "5cb1e430",
   "metadata": {},
   "outputs": [],
   "source": []
  },
  {
   "cell_type": "markdown",
   "id": "2673ad0b",
   "metadata": {},
   "source": [
    "Die Physik haben Sie sich nun erarbeitet, jetzt folgt die Mathematik! Da Sie in einer Veranstaltung der Physik sitzen, haben wir einen armen Studenten gezwungen die mathematische Beschreibung für Sie vorzuformulieren, Sie müssen nur noch Ihre Erkenntnisse in die gezeigten Stellen eingeben! \n",
    "### Mathematik\n",
    "\n",
    "$ \\textsf{\\textcolor{lightblue}{\\textbf{Aufgabe 1}}}$ Betrachten Sie die Daten auf dem Arbeitsblatt. Wir möchten die vier Spuren durch Funktionen beschreiben. Dazu möchten wir die Winkel der Bahnen wissen. Definieren Sie diese in der nachfolgenden Zelle: "
   ]
  },
  {
   "cell_type": "code",
   "execution_count": 26,
   "id": "c8b81170",
   "metadata": {},
   "outputs": [],
   "source": [
    "a_1 =  <Winkel>                 *np.pi/180 #Dieser Faktor rechnet Ihren Winkel von Grad in Radiant.     #Lsg.12\n",
    "a_2 =  <Winkel>                 *np.pi/180                                                              #Lsg. 5\n",
    "a_3 = <Winkel>                  *np.pi/180                                                              #Lsg. 2\n",
    "a_4 = <Winkel>                  *np.pi/180                                                              #Lsg. -13"
   ]
  },
  {
   "cell_type": "markdown",
   "id": "da381a12",
   "metadata": {},
   "source": [
    "$ \\textsf{\\textcolor{lightblue}{\\textbf{Aufgabe 2}}}$ Die Funktion, die die Bahnen vom VELO bis zum Eintritt in das Magnetfeld beschreiben sind linear und lauten:   $bahn (x,a,y_{TT})=tan(a)*x+y_{TT}$.\\\n",
    " $x$ ist die Koordinate in Meter. Wir haben die Funktion bereits nachfolgend definiert. Geben Sie Ihre definierten Winkel-Variablen und die Werte im Tracker ein und\\\n",
    "$\\textbf{    a:}$ Bestimmen Sie die y-Koordinate beim Eintritt in das Magnetfeld.\\\n",
    " $\\textbf{     b:}$ Das LHCb ist ca. 700 km entfernt. Mal angenommen es zeige genau auf (ORT), welche Höhe hat das Teilchen nach dieser Entfernung? Nehmen Sie an, die Erde ist flach.\n",
    "\n"
   ]
  },
  {
   "cell_type": "code",
   "execution_count": 27,
   "id": "55971ad8",
   "metadata": {},
   "outputs": [
    {
     "data": {
      "text/plain": [
       "148790.34316901548"
      ]
     },
     "execution_count": 27,
     "metadata": {},
     "output_type": "execute_result"
    }
   ],
   "source": [
    "\n",
    "\n",
    "# Zur Definition:\n",
    "def bahn(Ort, Winkel, Y_TT  ):\n",
    "    y=np.tan(Winkel)*Ort+Y_TT\n",
    "    return y\n",
    "\n",
    "# Geben Sie hier die Daten ein:\n",
    "\n",
    "bahn( <Ort des Objektes>, <Ihre Winkel-Varaible> , <Ihr Y-TT-Wert> )\n",
    "\n",
    "print(\"x = {0:.2f}\".format(x))\n",
    "\n",
    "\n"
   ]
  },
  {
   "cell_type": "markdown",
   "id": "9434e8aa",
   "metadata": {},
   "source": [
    "$ \\textsf{\\textcolor{lightblue}{\\textbf{Aufgabe 3}}}$ Ausgehend von den von Ihnen definierten Variablen können wir nun den Radius der Kreisbahn berechnen! Dazu haben wir die Formeln unten bereits definiert, Sie müssen nur noch Ihre Werte eingeben."
   ]
  },
  {
   "cell_type": "code",
   "execution_count": 94,
   "id": "0613e22d",
   "metadata": {},
   "outputs": [
    {
     "name": "stdout",
     "output_type": "stream",
     "text": [
      "Dies ist der Radius des Kreises\n"
     ]
    },
    {
     "data": {
      "text/plain": [
       "36.32938926351808"
      ]
     },
     "execution_count": 94,
     "metadata": {},
     "output_type": "execute_result"
    }
   ],
   "source": [
    "#Geben Sie hier die Daten ein:\n",
    "\n",
    "X_B_Feld        = <Ort, Anfang des Magnets>                                                                                      #Lsg. 0.7\n",
    "Winkel          = <Ihr definierter Winkel>        *np.pi/180 #Dieser Faktor rechnet Ihren Winkel von Grad in Radiant.           #Nimm, 5\n",
    "Y_TT            = <Y-TT-Wert>                                                                                                      #Nimm, 0.30505\n",
    "Y_13            = <Y-T1-T3-Wert>                                                                                                    #Nimm, 0.83866\n",
    "X_13            = <Ort, Ende des Magnetfelds>                                                                                       #Lsg. 4.2\n",
    "\n",
    "print(\"Die Daten sind eingeladen!\")"
   ]
  },
  {
   "cell_type": "code",
   "execution_count": null,
   "id": "782267f1",
   "metadata": {},
   "outputs": [],
   "source": [
    "# Hier sind die Fuktionen definiert, welche den Radius berechnen. Führen Sie diese Zelle aus und Sie erhalten den Radius\n",
    "def Y_B_Feld(X_B_Feld,Winkel,Y_TT):\n",
    "    y=bahn(X_B_Feld,Winkel,Y_TT)\n",
    "    return y\n",
    "\n",
    "def Y_Verbindungsfunktion(Y_13,Winkel,Y_TT):\n",
    "    y=(Y_13+Y_B_Feld(X_B_Feld,Winkel,Y_TT))/2\n",
    "    return y\n",
    "\n",
    "def X_Verbindungsfunktion(X_13,X_B_Feld):\n",
    "    y=(X_13+X_B_Feld)/2\n",
    "    return y\n",
    "\n",
    "def Steigung_Verbindungsfuktion(X_13,Y_13,X_B_Feld,Winkel,Y_TT):\n",
    "    y=(Y_13-Y_B_Feld(X_B_Feld,Winkel,Y_TT))/(X_13-X_B_Feld)\n",
    "    return y\n",
    "    \n",
    "def X_Ort_des_Kreis_Mittelpunkts(Y_13,Y_TT,X_B_Feld,Winkel,X_13):\n",
    "    y=(((Y_Verbindungsfunktion(Y_13,Winkel,Y_TT))-Y_B_Feld(X_B_Feld,Winkel,Y_TT))*np.tan(Winkel)*Steigung_Verbindungsfuktion(X_13,Y_13,X_B_Feld,Winkel,Y_TT)+X_B_Feld*Steigung_Verbindungsfuktion(X_13,Y_13,X_B_Feld,Winkel,Y_TT)-X_Verbindungsfunktion(X_13,X_B_Feld)*np.tan(Winkel))/(Steigung_Verbindungsfuktion(X_13,Y_13,X_B_Feld,Winkel,Y_TT)-np.tan(Winkel))\n",
    "    return y\n",
    "\n",
    "\n",
    "\n",
    "def Y_Ort_des_Kreis_Mittelpunkts(Y_13,Y_TT,X_B_Feld,Winkel,X_13):\n",
    "    y=-(X_Ort_des_Kreis_Mittelpunkts(Y_13,Y_TT,X_B_Feld,Winkel,X_13)-X_B_Feld)/(np.tan(Winkel))+Y_B_Feld(X_B_Feld,Winkel,Y_TT)\n",
    "    return y\n",
    "\n",
    "\n",
    "\n",
    "def Kreisradius(Y_13,Y_TT,X_B_Feld,Winkel,X_13):\n",
    "    y=np.sqrt((X_B_Feld - X_Ort_des_Kreis_Mittelpunkts(Y_13,Y_TT,X_B_Feld,Winkel,X_13))**2+(Y_B_Feld(X_B_Feld,Winkel,Y_TT) - Y_Ort_des_Kreis_Mittelpunkts(Y_13,Y_TT,X_B_Feld,Winkel,X_13))**2)\n",
    "    return y\n",
    "\n",
    "\n",
    "\n",
    "#Y_B_Feld(0.7,Winkel,Y_TT) \n",
    "\n",
    "#Y_Verbindungsfunktion(Y_13,Winkel,Y_TT) #Stimmt\n",
    "#Steigung_Verbindungsfuktion(X_13,Y_13,X_B_Feld,Winkel,Y_TT) # Stimmt\n",
    "#X_Ort_des_Kreis_Mittelpunkts(Y_13,Y_TT,X_B_Feld,Winkel,X_13)\n",
    "\n",
    "print(\"Dies ist der Radius des Kreises\");\n",
    "Kreisradius(Y_13,Y_TT,X_B_Feld,Winkel,X_13)"
   ]
  },
  {
   "cell_type": "markdown",
   "id": "b77ac701",
   "metadata": {},
   "source": [
    "Nun haben Sie alle Informationen um die Masse des Teilchens zu berechnen! $\\newline$ \n",
    "\n",
    "$ \\textsf{\\textcolor{lightblue}{\\textbf{Aufgabe 4a}}}$ Verwenden Sie Ihre in $ \\textsf{\\textcolor{red}{\\textbf{Aufgabe 2}}}$ definierte Formel um den Impuls zu berechnen\n"
   ]
  },
  {
   "cell_type": "code",
   "execution_count": null,
   "id": "74baa00a",
   "metadata": {},
   "outputs": [],
   "source": []
  },
  {
   "cell_type": "markdown",
   "id": "368a113d",
   "metadata": {},
   "source": [
    "$ \\textsf{\\textcolor{lightblue}{\\textbf{Aufgabe 4b}}}$ Verwenden Sie Ihre in $ \\textsf{\\textcolor{red}{\\textbf{Aufgabe 3}}}$ definierte  Formel und den soeben berechneten Wert für den Impuls um die Masse zu bestimmen!"
   ]
  },
  {
   "cell_type": "code",
   "execution_count": null,
   "id": "db33c494",
   "metadata": {},
   "outputs": [],
   "source": []
  },
  {
   "cell_type": "markdown",
   "id": "b356ab76",
   "metadata": {},
   "source": [
    "$ \\textsf{\\textcolor{lightblue}{\\textbf{Aufgabe 5}}}$  Dies ist eine hässliche Zahl, stimmts? Analog wie bei Energien  können wir nun in die Teilchenphysiker*innen-Einheiten umrechnen, diese lautet bei Massen $\\textmd{MeV}/c^2$. Die nachfolgende Zelle enthällt den Umrechnungsfaktor. Geben Sie dort Ihre eben herausgefundene Zahl ein."
   ]
  },
  {
   "cell_type": "code",
   "execution_count": 11,
   "id": "2d47a01f",
   "metadata": {},
   "outputs": [
    {
     "data": {
      "text/plain": [
       "938.3719816444087"
      ]
     },
     "execution_count": 11,
     "metadata": {},
     "output_type": "execute_result"
    }
   ],
   "source": [
    "def Masse_in_MeVc2(Masse_in_kg): \n",
    "    y = Masse_in_kg * (299792458**2 /(10**6 * 1.602176634*10**(-19)))\n",
    "    return y  \n",
    "\n",
    "Masse_in_MeVc2(1.6728*10**-27)    "
   ]
  },
  {
   "cell_type": "markdown",
   "id": "7c6ded5c",
   "metadata": {},
   "source": [
    "(Entwurf: Hier der Plot, sieht ein wenig dumm aus, wenn der Radius gross ist)"
   ]
  },
  {
   "cell_type": "code",
   "execution_count": 92,
   "id": "2730243c",
   "metadata": {},
   "outputs": [
    {
     "data": {
      "text/plain": [
       "[<matplotlib.lines.Line2D at 0x7f6d75fb5fa0>]"
      ]
     },
     "execution_count": 92,
     "metadata": {},
     "output_type": "execute_result"
    },
    {
     "data": {
      "image/png": "[encoded data removed]",
      "text/plain": [
       "<Figure size 640x480 with 1 Axes>"
      ]
     },
     "metadata": {},
     "output_type": "display_data"
    }
   ],
   "source": [
    "\n",
    "xm=X_Ort_des_Kreis_Mittelpunkts(Y_13,Y_TT,X_B_Feld,Winkel,X_13);\n",
    "ym=Y_Ort_des_Kreis_Mittelpunkts(Y_13,Y_TT,X_B_Feld,Winkel,X_13);\n",
    "r=Kreisradius(Y_13,Y_TT,X_B_Feld,Winkel,X_13)\n",
    "phi=np.linspace(80/100*np.pi,103/100*np.pi,1000);\n",
    "xk=xm+r*np.sin(phi);\n",
    "yk=ym+r*np.cos(phi);\n",
    "x=np.linspace(-X_B_Feld/2,X_B_Feld,1000);\n",
    "q=np.linspace(50,150,20);\n",
    "\n",
    "xmin,xmax,ymin,ymax=-X_B_Feld,10,0,7.5\n",
    "plt.axis([xmin,xmax,ymin,ymax])\n",
    "\n",
    "plt.plot(xk,yk,color=\"red\")\n",
    "plt.plot(x,bahn(x,Winkel,Y_TT),color=\"blue\")\n",
    "\n"
   ]
  },
  {
   "cell_type": "code",
   "execution_count": null,
   "id": "ed42146b",
   "metadata": {},
   "outputs": [],
   "source": []
  }
 ],
 "metadata": {
  "kernelspec": {
   "display_name": "Python 3 (ipykernel)",
   "language": "python",
   "name": "python3"
  },
  "language_info": {
   "codemirror_mode": {
    "name": "ipython",
    "version": 3
   },
   "file_extension": ".py",
   "mimetype": "text/x-python",
   "name": "python",
   "nbconvert_exporter": "python",
   "pygments_lexer": "ipython3",
   "version": "3.8.10"
  }
 },
 "nbformat": 4,
 "nbformat_minor": 5
}
